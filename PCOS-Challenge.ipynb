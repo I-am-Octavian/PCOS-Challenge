{
  "cells": [
    {
      "cell_type": "code",
      "execution_count": 1,
      "metadata": {
        "colab": {
          "background_save": true,
          "base_uri": "https://localhost:8080/"
        },
        "id": "dJ7j9zuWRQzG",
        "outputId": "65cb42e7-b111-4c14-ef44-2ded78fb3633"
      },
      "outputs": [
        {
          "name": "stderr",
          "output_type": "stream",
          "text": [
            "2024-05-07 23:46:48.270054: E external/local_xla/xla/stream_executor/cuda/cuda_dnn.cc:9261] Unable to register cuDNN factory: Attempting to register factory for plugin cuDNN when one has already been registered\n",
            "2024-05-07 23:46:48.270092: E external/local_xla/xla/stream_executor/cuda/cuda_fft.cc:607] Unable to register cuFFT factory: Attempting to register factory for plugin cuFFT when one has already been registered\n",
            "2024-05-07 23:46:48.271264: E external/local_xla/xla/stream_executor/cuda/cuda_blas.cc:1515] Unable to register cuBLAS factory: Attempting to register factory for plugin cuBLAS when one has already been registered\n",
            "2024-05-07 23:46:48.277835: I tensorflow/core/platform/cpu_feature_guard.cc:182] This TensorFlow binary is optimized to use available CPU instructions in performance-critical operations.\n",
            "To enable the following instructions: AVX2 FMA, in other operations, rebuild TensorFlow with the appropriate compiler flags.\n",
            "2024-05-07 23:46:49.022813: W tensorflow/compiler/tf2tensorrt/utils/py_utils.cc:38] TF-TRT Warning: Could not find TensorRT\n"
          ]
        }
      ],
      "source": [
        "import tensorflow as tf\n",
        "from tensorflow.keras.applications import InceptionV3\n",
        "from tensorflow.keras.layers import Dense, Flatten, GlobalAveragePooling2D, Dropout\n",
        "from tensorflow.keras.models import Model\n",
        "from tensorflow.keras.preprocessing.image import ImageDataGenerator\n",
        "import scipy.integrate as integrate\n",
        "import matplotlib.pyplot as plt\n"
      ]
    },
    {
      "cell_type": "code",
      "execution_count": 2,
      "metadata": {
        "id": "NSMoRH0BSiAg"
      },
      "outputs": [
        {
          "name": "stderr",
          "output_type": "stream",
          "text": [
            "2024-05-07 23:46:50.160660: I external/local_xla/xla/stream_executor/cuda/cuda_executor.cc:901] successful NUMA node read from SysFS had negative value (-1), but there must be at least one NUMA node, so returning NUMA node zero. See more at https://github.com/torvalds/linux/blob/v6.0/Documentation/ABI/testing/sysfs-bus-pci#L344-L355\n",
            "2024-05-07 23:46:50.200648: I external/local_xla/xla/stream_executor/cuda/cuda_executor.cc:901] successful NUMA node read from SysFS had negative value (-1), but there must be at least one NUMA node, so returning NUMA node zero. See more at https://github.com/torvalds/linux/blob/v6.0/Documentation/ABI/testing/sysfs-bus-pci#L344-L355\n",
            "2024-05-07 23:46:50.201131: I external/local_xla/xla/stream_executor/cuda/cuda_executor.cc:901] successful NUMA node read from SysFS had negative value (-1), but there must be at least one NUMA node, so returning NUMA node zero. See more at https://github.com/torvalds/linux/blob/v6.0/Documentation/ABI/testing/sysfs-bus-pci#L344-L355\n",
            "2024-05-07 23:46:50.202754: I external/local_xla/xla/stream_executor/cuda/cuda_executor.cc:901] successful NUMA node read from SysFS had negative value (-1), but there must be at least one NUMA node, so returning NUMA node zero. See more at https://github.com/torvalds/linux/blob/v6.0/Documentation/ABI/testing/sysfs-bus-pci#L344-L355\n",
            "2024-05-07 23:46:50.203217: I external/local_xla/xla/stream_executor/cuda/cuda_executor.cc:901] successful NUMA node read from SysFS had negative value (-1), but there must be at least one NUMA node, so returning NUMA node zero. See more at https://github.com/torvalds/linux/blob/v6.0/Documentation/ABI/testing/sysfs-bus-pci#L344-L355\n",
            "2024-05-07 23:46:50.203623: I external/local_xla/xla/stream_executor/cuda/cuda_executor.cc:901] successful NUMA node read from SysFS had negative value (-1), but there must be at least one NUMA node, so returning NUMA node zero. See more at https://github.com/torvalds/linux/blob/v6.0/Documentation/ABI/testing/sysfs-bus-pci#L344-L355\n",
            "2024-05-07 23:46:50.295253: I external/local_xla/xla/stream_executor/cuda/cuda_executor.cc:901] successful NUMA node read from SysFS had negative value (-1), but there must be at least one NUMA node, so returning NUMA node zero. See more at https://github.com/torvalds/linux/blob/v6.0/Documentation/ABI/testing/sysfs-bus-pci#L344-L355\n",
            "2024-05-07 23:46:50.295494: I external/local_xla/xla/stream_executor/cuda/cuda_executor.cc:901] successful NUMA node read from SysFS had negative value (-1), but there must be at least one NUMA node, so returning NUMA node zero. See more at https://github.com/torvalds/linux/blob/v6.0/Documentation/ABI/testing/sysfs-bus-pci#L344-L355\n",
            "2024-05-07 23:46:50.295701: I external/local_xla/xla/stream_executor/cuda/cuda_executor.cc:901] successful NUMA node read from SysFS had negative value (-1), but there must be at least one NUMA node, so returning NUMA node zero. See more at https://github.com/torvalds/linux/blob/v6.0/Documentation/ABI/testing/sysfs-bus-pci#L344-L355\n",
            "2024-05-07 23:46:50.295860: I tensorflow/core/common_runtime/gpu/gpu_device.cc:1929] Created device /job:localhost/replica:0/task:0/device:GPU:0 with 750 MB memory:  -> device: 0, name: NVIDIA GeForce GTX 1650, pci bus id: 0000:01:00.0, compute capability: 7.5\n"
          ]
        }
      ],
      "source": [
        "# Load the base VGG16 model, pre-trained on ImageNet\n",
        "base_model = InceptionV3(weights='imagenet', include_top=False)\n",
        "\n",
        "# Freeze all layers except last four layers \n",
        "for layer in base_model.layers:\n",
        "    layer.trainable = False\n",
        "\n",
        "# Add custom layers on top of the base model\n",
        "x = base_model.output\n",
        "x = GlobalAveragePooling2D()(x)\n",
        "x = Dense(512, activation='relu')(x)\n",
        "x = Dropout(0.5)(x)\n",
        "predictions = Dense(1, activation='sigmoid')(x)\n"
      ]
    },
    {
      "cell_type": "code",
      "execution_count": 3,
      "metadata": {
        "id": "9hLEwzTpQXDb"
      },
      "outputs": [],
      "source": [
        "# Create the final model\n",
        "model = Model(inputs=base_model.input, outputs=predictions)\n",
        "\n"
      ]
    },
    {
      "cell_type": "code",
      "execution_count": 4,
      "metadata": {
        "id": "4cqM4VoWQaCI"
      },
      "outputs": [],
      "source": [
        "# Compile the model\n",
        "model.compile(optimizer=tf.keras.optimizers.Adam(learning_rate=0.00001),\n",
        "              loss=tf.keras.losses.BinaryCrossentropy(),\n",
        "              metrics=['accuracy'])\n",
        "\n"
      ]
    },
    {
      "cell_type": "code",
      "execution_count": 5,
      "metadata": {
        "id": "D_n7Qov8QivW"
      },
      "outputs": [
        {
          "name": "stdout",
          "output_type": "stream",
          "text": [
            "Found 3194 images belonging to 1 classes.\n"
          ]
        }
      ],
      "source": [
        "# Create data generators for training and validation\n",
        "train_datagen = ImageDataGenerator(rescale=1./255,\n",
        "                                   rotation_range=20,\n",
        "                                   width_shift_range=0.2,\n",
        "                                   height_shift_range=0.2,\n",
        "                                   shear_range=0.2,\n",
        "                                   zoom_range=0.2,\n",
        "                                   horizontal_flip=True,\n",
        "                                   fill_mode='nearest')\n",
        "\n",
        "train_generator = train_datagen.flow_from_directory(\n",
        "        'cleaned_images',\n",
        "        target_size=(299, 299),\n",
        "        batch_size=32,\n",
        "        class_mode='binary')\n"
      ]
    },
    {
      "cell_type": "code",
      "execution_count": 5,
      "metadata": {},
      "outputs": [
        {
          "name": "stdout",
          "output_type": "stream",
          "text": [
            "Found 3200 files belonging to 2 classes.\n"
          ]
        }
      ],
      "source": [
        "dataset = tf.keras.preprocessing.image_dataset_from_directory(\n",
        "    directory=\"../PCOSGen-train/images\",\n",
        "    labels=\"inferred\",\n",
        "    label_mode=\"int\",\n",
        "    class_names=[\"unhealthy\", \"healthy\"],\n",
        "    batch_size=16, # Prev 32\n",
        "    image_size=(299, 299),\n",
        "    shuffle=True,\n",
        "    # color_mode='grayscale',\n",
        "    seed=42,\n",
        ")\n",
        "\n",
        "DATASET_SIZE = 200\n",
        "\n",
        "train_size = int(0.7 * DATASET_SIZE)\n",
        "val_size = int(0.15 * DATASET_SIZE)\n",
        "test_size = int(0.15 * DATASET_SIZE)\n",
        "\n",
        "train_dataset = dataset.take(train_size)\n",
        "test_dataset = dataset.skip(train_size)\n",
        "val_dataset = test_dataset.skip(val_size)\n",
        "test_dataset = test_dataset.take(test_size)"
      ]
    },
    {
      "cell_type": "code",
      "execution_count": 6,
      "metadata": {
        "id": "37JZlF9AQkg-"
      },
      "outputs": [
        {
          "name": "stdout",
          "output_type": "stream",
          "text": [
            "Epoch 1/100\n"
          ]
        },
        {
          "name": "stderr",
          "output_type": "stream",
          "text": [
            "2024-05-07 23:47:04.801794: I external/local_xla/xla/stream_executor/cuda/cuda_dnn.cc:454] Loaded cuDNN version 8907\n",
            "2024-05-07 23:47:05.228694: W external/local_tsl/tsl/framework/bfc_allocator.cc:296] Allocator (GPU_0_bfc) ran out of memory trying to allocate 790.04MiB with freed_by_count=0. The caller indicates that this is not a failure, but this may mean that there could be performance gains if more memory were available.\n",
            "2024-05-07 23:47:05.385211: W external/local_tsl/tsl/framework/bfc_allocator.cc:296] Allocator (GPU_0_bfc) ran out of memory trying to allocate 790.04MiB with freed_by_count=0. The caller indicates that this is not a failure, but this may mean that there could be performance gains if more memory were available.\n",
            "2024-05-07 23:47:05.571485: W external/local_tsl/tsl/framework/bfc_allocator.cc:296] Allocator (GPU_0_bfc) ran out of memory trying to allocate 395.85MiB with freed_by_count=0. The caller indicates that this is not a failure, but this may mean that there could be performance gains if more memory were available.\n",
            "2024-05-07 23:47:05.587689: W external/local_tsl/tsl/framework/bfc_allocator.cc:296] Allocator (GPU_0_bfc) ran out of memory trying to allocate 1.28GiB with freed_by_count=0. The caller indicates that this is not a failure, but this may mean that there could be performance gains if more memory were available.\n",
            "2024-05-07 23:47:05.713078: W external/local_tsl/tsl/framework/bfc_allocator.cc:296] Allocator (GPU_0_bfc) ran out of memory trying to allocate 395.85MiB with freed_by_count=0. The caller indicates that this is not a failure, but this may mean that there could be performance gains if more memory were available.\n",
            "2024-05-07 23:47:05.729963: W external/local_tsl/tsl/framework/bfc_allocator.cc:296] Allocator (GPU_0_bfc) ran out of memory trying to allocate 1.28GiB with freed_by_count=0. The caller indicates that this is not a failure, but this may mean that there could be performance gains if more memory were available.\n",
            "2024-05-07 23:47:05.904035: W external/local_tsl/tsl/framework/bfc_allocator.cc:296] Allocator (GPU_0_bfc) ran out of memory trying to allocate 2.08GiB with freed_by_count=0. The caller indicates that this is not a failure, but this may mean that there could be performance gains if more memory were available.\n",
            "2024-05-07 23:47:06.130548: W external/local_tsl/tsl/framework/bfc_allocator.cc:296] Allocator (GPU_0_bfc) ran out of memory trying to allocate 2.08GiB with freed_by_count=0. The caller indicates that this is not a failure, but this may mean that there could be performance gains if more memory were available.\n",
            "2024-05-07 23:47:07.129498: W external/local_tsl/tsl/framework/bfc_allocator.cc:296] Allocator (GPU_0_bfc) ran out of memory trying to allocate 610.05MiB with freed_by_count=0. The caller indicates that this is not a failure, but this may mean that there could be performance gains if more memory were available.\n",
            "2024-05-07 23:47:07.168085: W external/local_tsl/tsl/framework/bfc_allocator.cc:296] Allocator (GPU_0_bfc) ran out of memory trying to allocate 610.05MiB with freed_by_count=0. The caller indicates that this is not a failure, but this may mean that there could be performance gains if more memory were available.\n",
            "2024-05-07 23:47:11.027330: I external/local_xla/xla/service/service.cc:168] XLA service 0x765b48776940 initialized for platform CUDA (this does not guarantee that XLA will be used). Devices:\n",
            "2024-05-07 23:47:11.027364: I external/local_xla/xla/service/service.cc:176]   StreamExecutor device (0): NVIDIA GeForce GTX 1650, Compute Capability 7.5\n",
            "2024-05-07 23:47:11.032796: I tensorflow/compiler/mlir/tensorflow/utils/dump_mlir_util.cc:269] disabling MLIR crash reproducer, set env var `MLIR_CRASH_REPRODUCER_DIRECTORY` to enable.\n",
            "WARNING: All log messages before absl::InitializeLog() is called are written to STDERR\n",
            "I0000 00:00:1715105831.115624   48911 device_compiler.h:186] Compiled cluster using XLA!  This line is logged at most once for the lifetime of the process.\n"
          ]
        },
        {
          "name": "stdout",
          "output_type": "stream",
          "text": [
            "140/140 [==============================] - 28s 135ms/step - loss: 6.5290 - accuracy: 0.5821 - val_loss: 2.7621 - val_accuracy: 0.7375\n",
            "Epoch 2/100\n",
            "140/140 [==============================] - 18s 127ms/step - loss: 5.1534 - accuracy: 0.6112 - val_loss: 1.9595 - val_accuracy: 0.7500\n",
            "Epoch 3/100\n",
            "140/140 [==============================] - 18s 127ms/step - loss: 4.6844 - accuracy: 0.6156 - val_loss: 1.4123 - val_accuracy: 0.7437\n",
            "Epoch 4/100\n",
            "140/140 [==============================] - 18s 127ms/step - loss: 4.1949 - accuracy: 0.6330 - val_loss: 1.9760 - val_accuracy: 0.7417\n",
            "Epoch 5/100\n",
            "140/140 [==============================] - 18s 127ms/step - loss: 3.6638 - accuracy: 0.6473 - val_loss: 1.3686 - val_accuracy: 0.7437\n",
            "Epoch 6/100\n",
            "140/140 [==============================] - 18s 127ms/step - loss: 3.3104 - accuracy: 0.6460 - val_loss: 1.1599 - val_accuracy: 0.7667\n",
            "Epoch 7/100\n",
            "140/140 [==============================] - 18s 129ms/step - loss: 2.9392 - accuracy: 0.6612 - val_loss: 1.3006 - val_accuracy: 0.7604\n",
            "Epoch 8/100\n",
            "140/140 [==============================] - 18s 127ms/step - loss: 2.6293 - accuracy: 0.6719 - val_loss: 1.3191 - val_accuracy: 0.7542\n",
            "Epoch 9/100\n",
            "140/140 [==============================] - 18s 129ms/step - loss: 2.4993 - accuracy: 0.6638 - val_loss: 0.9516 - val_accuracy: 0.7479\n",
            "Epoch 10/100\n",
            "140/140 [==============================] - 18s 127ms/step - loss: 2.0886 - accuracy: 0.6826 - val_loss: 0.8857 - val_accuracy: 0.7479\n",
            "Epoch 11/100\n",
            "140/140 [==============================] - 18s 127ms/step - loss: 1.9401 - accuracy: 0.6844 - val_loss: 0.8549 - val_accuracy: 0.7563\n",
            "Epoch 12/100\n",
            "140/140 [==============================] - 18s 128ms/step - loss: 1.6481 - accuracy: 0.6857 - val_loss: 0.7981 - val_accuracy: 0.7583\n",
            "Epoch 13/100\n",
            "140/140 [==============================] - 18s 127ms/step - loss: 1.4657 - accuracy: 0.6938 - val_loss: 0.7673 - val_accuracy: 0.7479\n",
            "Epoch 14/100\n",
            "140/140 [==============================] - 18s 127ms/step - loss: 1.2428 - accuracy: 0.7027 - val_loss: 0.6405 - val_accuracy: 0.7458\n",
            "Epoch 15/100\n",
            "140/140 [==============================] - 18s 128ms/step - loss: 1.2901 - accuracy: 0.6996 - val_loss: 0.6710 - val_accuracy: 0.7604\n",
            "Epoch 16/100\n",
            "140/140 [==============================] - 18s 128ms/step - loss: 1.1479 - accuracy: 0.7031 - val_loss: 0.6294 - val_accuracy: 0.7521\n",
            "Epoch 17/100\n",
            "140/140 [==============================] - 18s 127ms/step - loss: 1.0432 - accuracy: 0.7080 - val_loss: 0.6360 - val_accuracy: 0.7208\n",
            "Epoch 18/100\n",
            "140/140 [==============================] - 18s 130ms/step - loss: 0.9750 - accuracy: 0.7094 - val_loss: 0.6073 - val_accuracy: 0.7479\n",
            "Epoch 19/100\n",
            "140/140 [==============================] - 18s 128ms/step - loss: 0.8816 - accuracy: 0.7107 - val_loss: 0.6202 - val_accuracy: 0.7417\n",
            "Epoch 20/100\n",
            "140/140 [==============================] - 18s 127ms/step - loss: 0.7812 - accuracy: 0.7134 - val_loss: 0.6432 - val_accuracy: 0.7500\n",
            "Epoch 21/100\n",
            "140/140 [==============================] - 18s 130ms/step - loss: 0.7881 - accuracy: 0.7121 - val_loss: 0.5674 - val_accuracy: 0.7437\n",
            "Epoch 22/100\n",
            "140/140 [==============================] - 18s 127ms/step - loss: 0.7234 - accuracy: 0.7121 - val_loss: 0.5810 - val_accuracy: 0.7396\n",
            "Epoch 23/100\n",
            "140/140 [==============================] - 18s 130ms/step - loss: 0.7066 - accuracy: 0.7152 - val_loss: 0.6001 - val_accuracy: 0.7458\n",
            "Epoch 24/100\n",
            "140/140 [==============================] - 18s 127ms/step - loss: 0.6693 - accuracy: 0.7098 - val_loss: 0.5877 - val_accuracy: 0.7563\n",
            "Epoch 25/100\n",
            "140/140 [==============================] - 18s 127ms/step - loss: 0.6462 - accuracy: 0.7286 - val_loss: 0.5286 - val_accuracy: 0.7500\n",
            "Epoch 26/100\n",
            "140/140 [==============================] - 18s 127ms/step - loss: 0.6102 - accuracy: 0.7299 - val_loss: 0.4989 - val_accuracy: 0.7604\n",
            "Epoch 27/100\n",
            "140/140 [==============================] - 18s 127ms/step - loss: 0.5771 - accuracy: 0.7357 - val_loss: 0.5049 - val_accuracy: 0.7458\n",
            "Epoch 28/100\n",
            "140/140 [==============================] - 18s 127ms/step - loss: 0.5570 - accuracy: 0.7455 - val_loss: 0.5015 - val_accuracy: 0.7437\n",
            "Epoch 29/100\n",
            "140/140 [==============================] - 18s 126ms/step - loss: 0.5296 - accuracy: 0.7473 - val_loss: 0.4926 - val_accuracy: 0.7688\n",
            "Epoch 30/100\n",
            "140/140 [==============================] - 18s 127ms/step - loss: 0.5339 - accuracy: 0.7344 - val_loss: 0.5195 - val_accuracy: 0.7500\n",
            "Epoch 31/100\n",
            "140/140 [==============================] - 18s 127ms/step - loss: 0.4935 - accuracy: 0.7603 - val_loss: 0.5079 - val_accuracy: 0.7563\n",
            "Epoch 32/100\n",
            "140/140 [==============================] - 18s 129ms/step - loss: 0.4838 - accuracy: 0.7625 - val_loss: 0.4819 - val_accuracy: 0.7708\n",
            "Epoch 33/100\n",
            "140/140 [==============================] - 18s 129ms/step - loss: 0.4941 - accuracy: 0.7567 - val_loss: 0.4821 - val_accuracy: 0.7583\n",
            "Epoch 34/100\n",
            "140/140 [==============================] - 18s 127ms/step - loss: 0.5027 - accuracy: 0.7616 - val_loss: 0.5011 - val_accuracy: 0.7396\n",
            "Epoch 35/100\n",
            "140/140 [==============================] - 18s 129ms/step - loss: 0.4755 - accuracy: 0.7621 - val_loss: 0.4653 - val_accuracy: 0.7708\n",
            "Epoch 36/100\n",
            "140/140 [==============================] - 18s 127ms/step - loss: 0.4686 - accuracy: 0.7634 - val_loss: 0.4763 - val_accuracy: 0.7750\n",
            "Epoch 37/100\n",
            "140/140 [==============================] - 18s 127ms/step - loss: 0.4753 - accuracy: 0.7563 - val_loss: 0.4797 - val_accuracy: 0.7750\n",
            "Epoch 38/100\n",
            "140/140 [==============================] - 18s 126ms/step - loss: 0.4536 - accuracy: 0.7754 - val_loss: 0.4903 - val_accuracy: 0.7625\n",
            "Epoch 39/100\n",
            "140/140 [==============================] - 18s 129ms/step - loss: 0.4483 - accuracy: 0.7759 - val_loss: 0.4874 - val_accuracy: 0.7792\n",
            "Epoch 40/100\n",
            "140/140 [==============================] - 18s 127ms/step - loss: 0.4505 - accuracy: 0.7790 - val_loss: 0.4860 - val_accuracy: 0.7604\n",
            "Epoch 41/100\n",
            "140/140 [==============================] - 18s 127ms/step - loss: 0.4582 - accuracy: 0.7741 - val_loss: 0.4791 - val_accuracy: 0.7625\n",
            "Epoch 42/100\n",
            "140/140 [==============================] - 18s 129ms/step - loss: 0.4612 - accuracy: 0.7683 - val_loss: 0.4756 - val_accuracy: 0.7583\n"
          ]
        }
      ],
      "source": [
        "callback = tf.keras.callbacks.EarlyStopping(monitor='loss', patience=3)\n",
        "\n",
        "# Train the model\n",
        "# history = model.fit(\n",
        "#       train_generator,\n",
        "#       steps_per_epoch=train_generator.samples//train_generator.batch_size,  callbacks=[callback],\n",
        "#       epochs=100)\n",
        "\n",
        "history = model.fit(train_dataset, validation_data = val_dataset, epochs=100, callbacks=[callback])\n"
      ]
    },
    {
      "cell_type": "code",
      "execution_count": null,
      "metadata": {},
      "outputs": [],
      "source": [
        "plt.plot(history.history['accuracy'], label='accuracy')\n",
        "plt.plot(history.history['val_accuracy'], label = 'val_accuracy')\n",
        "plt.xlabel('Epoch')\n",
        "plt.ylabel('Accuracy')\n",
        "plt.ylim([0.5, 1])\n",
        "plt.legend(loc='lower right')"
      ]
    },
    {
      "cell_type": "code",
      "execution_count": null,
      "metadata": {},
      "outputs": [],
      "source": [
        "plt.plot(history.history['loss'], label='loss')\n",
        "plt.plot(history.history['val_loss'], label = 'val_loss')\n",
        "plt.xlabel('Epoch')\n",
        "plt.ylabel('Loss')\n",
        "plt.legend(loc='lower right')"
      ]
    },
    {
      "cell_type": "code",
      "execution_count": 7,
      "metadata": {},
      "outputs": [],
      "source": [
        "for layer in model.layers[:249]:\n",
        "   layer.trainable = False\n",
        "for layer in model.layers[249:]:\n",
        "   layer.trainable = True"
      ]
    },
    {
      "cell_type": "code",
      "execution_count": 10,
      "metadata": {},
      "outputs": [],
      "source": [
        "model.compile(optimizer=tf.keras.optimizers.Adam(learning_rate=0.00001), loss='binary_crossentropy', metrics=['accuracy'])"
      ]
    },
    {
      "cell_type": "code",
      "execution_count": 11,
      "metadata": {},
      "outputs": [
        {
          "name": "stdout",
          "output_type": "stream",
          "text": [
            "Epoch 1/100\n"
          ]
        },
        {
          "name": "stdout",
          "output_type": "stream",
          "text": [
            "140/140 [==============================] - 31s 162ms/step - loss: 0.5560 - accuracy: 0.7268 - val_loss: 0.4898 - val_accuracy: 0.7604\n",
            "Epoch 2/100\n",
            "140/140 [==============================] - 22s 156ms/step - loss: 0.4849 - accuracy: 0.7531 - val_loss: 0.4592 - val_accuracy: 0.7708\n",
            "Epoch 3/100\n",
            "140/140 [==============================] - 22s 157ms/step - loss: 0.4421 - accuracy: 0.7741 - val_loss: 0.4689 - val_accuracy: 0.7563\n",
            "Epoch 4/100\n",
            "140/140 [==============================] - 22s 157ms/step - loss: 0.4132 - accuracy: 0.7955 - val_loss: 0.4583 - val_accuracy: 0.7688\n",
            "Epoch 5/100\n",
            "140/140 [==============================] - 22s 160ms/step - loss: 0.3923 - accuracy: 0.7987 - val_loss: 0.4681 - val_accuracy: 0.7542\n",
            "Epoch 6/100\n",
            "140/140 [==============================] - 22s 158ms/step - loss: 0.3808 - accuracy: 0.8116 - val_loss: 0.4725 - val_accuracy: 0.7542\n",
            "Epoch 7/100\n",
            "140/140 [==============================] - 22s 158ms/step - loss: 0.3521 - accuracy: 0.8268 - val_loss: 0.4699 - val_accuracy: 0.7667\n",
            "Epoch 8/100\n",
            "140/140 [==============================] - 22s 158ms/step - loss: 0.3435 - accuracy: 0.8201 - val_loss: 0.5032 - val_accuracy: 0.7563\n",
            "Epoch 9/100\n",
            "140/140 [==============================] - 22s 159ms/step - loss: 0.3195 - accuracy: 0.8326 - val_loss: 0.4790 - val_accuracy: 0.7792\n",
            "Epoch 10/100\n",
            "140/140 [==============================] - 22s 159ms/step - loss: 0.3019 - accuracy: 0.8513 - val_loss: 0.5237 - val_accuracy: 0.7271\n",
            "Epoch 11/100\n",
            "140/140 [==============================] - 22s 159ms/step - loss: 0.2951 - accuracy: 0.8500 - val_loss: 0.5757 - val_accuracy: 0.7000\n",
            "Epoch 12/100\n",
            "140/140 [==============================] - 22s 159ms/step - loss: 0.2808 - accuracy: 0.8634 - val_loss: 0.5509 - val_accuracy: 0.7292\n",
            "Epoch 13/100\n",
            "140/140 [==============================] - 22s 159ms/step - loss: 0.2762 - accuracy: 0.8652 - val_loss: 0.6075 - val_accuracy: 0.7229\n",
            "Epoch 14/100\n",
            "140/140 [==============================] - 22s 159ms/step - loss: 0.2440 - accuracy: 0.8862 - val_loss: 0.6330 - val_accuracy: 0.7250\n",
            "Epoch 15/100\n",
            "140/140 [==============================] - 22s 159ms/step - loss: 0.2426 - accuracy: 0.8813 - val_loss: 0.6509 - val_accuracy: 0.7167\n",
            "Epoch 16/100\n",
            "140/140 [==============================] - 22s 159ms/step - loss: 0.2429 - accuracy: 0.8844 - val_loss: 0.6813 - val_accuracy: 0.7188\n",
            "Epoch 17/100\n",
            "140/140 [==============================] - 22s 159ms/step - loss: 0.2285 - accuracy: 0.8906 - val_loss: 0.7063 - val_accuracy: 0.7292\n",
            "Epoch 18/100\n",
            "140/140 [==============================] - 22s 159ms/step - loss: 0.2079 - accuracy: 0.9089 - val_loss: 0.7052 - val_accuracy: 0.7104\n",
            "Epoch 19/100\n",
            "140/140 [==============================] - 22s 159ms/step - loss: 0.2115 - accuracy: 0.9031 - val_loss: 0.6895 - val_accuracy: 0.7083\n",
            "Epoch 20/100\n",
            "140/140 [==============================] - 22s 159ms/step - loss: 0.1990 - accuracy: 0.9138 - val_loss: 0.7038 - val_accuracy: 0.7354\n",
            "Epoch 21/100\n",
            "140/140 [==============================] - 23s 161ms/step - loss: 0.1997 - accuracy: 0.9098 - val_loss: 0.7401 - val_accuracy: 0.7188\n",
            "Epoch 22/100\n",
            "140/140 [==============================] - 22s 159ms/step - loss: 0.1796 - accuracy: 0.9210 - val_loss: 0.7537 - val_accuracy: 0.7271\n",
            "Epoch 23/100\n",
            "140/140 [==============================] - 22s 159ms/step - loss: 0.1653 - accuracy: 0.9241 - val_loss: 0.8078 - val_accuracy: 0.7042\n",
            "Epoch 24/100\n",
            "140/140 [==============================] - 22s 158ms/step - loss: 0.1677 - accuracy: 0.9281 - val_loss: 0.7787 - val_accuracy: 0.7083\n",
            "Epoch 25/100\n",
            "140/140 [==============================] - 22s 157ms/step - loss: 0.1435 - accuracy: 0.9460 - val_loss: 0.8491 - val_accuracy: 0.6979\n",
            "Epoch 26/100\n",
            "140/140 [==============================] - 22s 157ms/step - loss: 0.1569 - accuracy: 0.9348 - val_loss: 0.8271 - val_accuracy: 0.7354\n",
            "Epoch 27/100\n",
            "140/140 [==============================] - 22s 157ms/step - loss: 0.1416 - accuracy: 0.9496 - val_loss: 0.8415 - val_accuracy: 0.7063\n",
            "Epoch 28/100\n",
            "140/140 [==============================] - 22s 158ms/step - loss: 0.1430 - accuracy: 0.9420 - val_loss: 0.9031 - val_accuracy: 0.7292\n",
            "Epoch 29/100\n",
            "140/140 [==============================] - 22s 158ms/step - loss: 0.1325 - accuracy: 0.9473 - val_loss: 0.8557 - val_accuracy: 0.7250\n",
            "Epoch 30/100\n",
            "140/140 [==============================] - 22s 159ms/step - loss: 0.1410 - accuracy: 0.9411 - val_loss: 0.9809 - val_accuracy: 0.7229\n",
            "Epoch 31/100\n",
            "140/140 [==============================] - 22s 159ms/step - loss: 0.1280 - accuracy: 0.9464 - val_loss: 0.9421 - val_accuracy: 0.7104\n",
            "Epoch 32/100\n",
            "140/140 [==============================] - 22s 159ms/step - loss: 0.1248 - accuracy: 0.9491 - val_loss: 0.9540 - val_accuracy: 0.6833\n",
            "Epoch 33/100\n",
            "140/140 [==============================] - 22s 159ms/step - loss: 0.1147 - accuracy: 0.9540 - val_loss: 1.0500 - val_accuracy: 0.7167\n",
            "Epoch 34/100\n",
            "140/140 [==============================] - 22s 159ms/step - loss: 0.1124 - accuracy: 0.9567 - val_loss: 0.9713 - val_accuracy: 0.7167\n",
            "Epoch 35/100\n",
            "140/140 [==============================] - 22s 159ms/step - loss: 0.1085 - accuracy: 0.9598 - val_loss: 1.0112 - val_accuracy: 0.7063\n",
            "Epoch 36/100\n",
            "140/140 [==============================] - 22s 159ms/step - loss: 0.1066 - accuracy: 0.9576 - val_loss: 1.0131 - val_accuracy: 0.6917\n",
            "Epoch 37/100\n",
            "140/140 [==============================] - 23s 161ms/step - loss: 0.0923 - accuracy: 0.9647 - val_loss: 1.0238 - val_accuracy: 0.7146\n",
            "Epoch 38/100\n",
            "140/140 [==============================] - 22s 159ms/step - loss: 0.1034 - accuracy: 0.9585 - val_loss: 1.0752 - val_accuracy: 0.6854\n",
            "Epoch 39/100\n",
            "140/140 [==============================] - 22s 159ms/step - loss: 0.1101 - accuracy: 0.9518 - val_loss: 1.0210 - val_accuracy: 0.7042\n",
            "Epoch 40/100\n",
            "140/140 [==============================] - 22s 159ms/step - loss: 0.1022 - accuracy: 0.9598 - val_loss: 1.0250 - val_accuracy: 0.7000\n"
          ]
        }
      ],
      "source": [
        "# history = model.fit(\n",
        "#       train_generator,\n",
        "#       steps_per_epoch=train_generator.samples//train_generator.batch_size,  callbacks=[callback],\n",
        "#       epochs=100)\n",
        "\n",
        "history = model.fit(train_dataset, validation_data = val_dataset, epochs=100, callbacks=[callback])\n"
      ]
    },
    {
      "cell_type": "code",
      "execution_count": 14,
      "metadata": {},
      "outputs": [
        {
          "data": {
            "text/plain": [
              "<matplotlib.legend.Legend at 0x765b8416ac50>"
            ]
          },
          "execution_count": 14,
          "metadata": {},
          "output_type": "execute_result"
        },
        {
          "data": {
            "image/png": "[encoded data removed]",
            "text/plain": [
              "<Figure size 640x480 with 1 Axes>"
            ]
          },
          "metadata": {},
          "output_type": "display_data"
        }
      ],
      "source": [
        "plt.plot(history.history['accuracy'], label='accuracy')\n",
        "plt.plot(history.history['val_accuracy'], label = 'val_accuracy')\n",
        "plt.xlabel('Epoch')\n",
        "plt.ylabel('Accuracy')\n",
        "plt.ylim([0.5, 1])\n",
        "plt.legend(loc='lower right')"
      ]
    },
    {
      "cell_type": "code",
      "execution_count": 15,
      "metadata": {},
      "outputs": [
        {
          "data": {
            "text/plain": [
              "<matplotlib.legend.Legend at 0x765b647f3160>"
            ]
          },
          "execution_count": 15,
          "metadata": {},
          "output_type": "execute_result"
        },
        {
          "data": {
            "image/png": "[encoded data removed]",
            "text/plain": [
              "<Figure size 640x480 with 1 Axes>"
            ]
          },
          "metadata": {},
          "output_type": "display_data"
        }
      ],
      "source": [
        "plt.plot(history.history['loss'], label='loss')\n",
        "plt.plot(history.history['val_loss'], label = 'val_loss')\n",
        "plt.xlabel('Epoch')\n",
        "plt.ylabel('Loss')\n",
        "plt.legend(loc='lower right')"
      ]
    },
    {
      "cell_type": "code",
      "execution_count": 16,
      "metadata": {},
      "outputs": [
        {
          "name": "stdout",
          "output_type": "stream",
          "text": [
            "30/30 - 3s - loss: 0.7880 - accuracy: 0.7875 - 3s/epoch - 115ms/step\n",
            "loss = 0.7879890203475952\n",
            "accuracy = 0.7875000238418579\n"
          ]
        }
      ],
      "source": [
        "loss, accuracy= model.evaluate(test_dataset, verbose=2)\n",
        "\n",
        "print(f'loss = {loss}')\n",
        "print(f'accuracy = {accuracy}')"
      ]
    },
    {
      "cell_type": "code",
      "execution_count": 20,
      "metadata": {},
      "outputs": [
        {
          "name": "stdout",
          "output_type": "stream",
          "text": [
            "INFO:tensorflow:Assets written to: InceptionV3Run3.Keras/assets\n"
          ]
        },
        {
          "name": "stderr",
          "output_type": "stream",
          "text": [
            "INFO:tensorflow:Assets written to: InceptionV3Run3.Keras/assets\n"
          ]
        }
      ],
      "source": [
        "model.save(\"InceptionV3final.Keras\")"
      ]
    },
    {
      "cell_type": "code",
      "execution_count": 9,
      "metadata": {},
      "outputs": [],
      "source": [
        "import numpy as np\n",
        "from tensorflow import keras\n",
        "import tensorflow as tf\n",
        "import matplotlib.pyplot as plt"
      ]
    },
    {
      "cell_type": "code",
      "execution_count": 5,
      "metadata": {},
      "outputs": [
        {
          "name": "stderr",
          "output_type": "stream",
          "text": [
            "2024-05-08 01:23:18.193037: I external/local_xla/xla/stream_executor/cuda/cuda_executor.cc:901] successful NUMA node read from SysFS had negative value (-1), but there must be at least one NUMA node, so returning NUMA node zero. See more at https://github.com/torvalds/linux/blob/v6.0/Documentation/ABI/testing/sysfs-bus-pci#L344-L355\n",
            "2024-05-08 01:23:18.236252: I external/local_xla/xla/stream_executor/cuda/cuda_executor.cc:901] successful NUMA node read from SysFS had negative value (-1), but there must be at least one NUMA node, so returning NUMA node zero. See more at https://github.com/torvalds/linux/blob/v6.0/Documentation/ABI/testing/sysfs-bus-pci#L344-L355\n",
            "2024-05-08 01:23:18.236731: I external/local_xla/xla/stream_executor/cuda/cuda_executor.cc:901] successful NUMA node read from SysFS had negative value (-1), but there must be at least one NUMA node, so returning NUMA node zero. See more at https://github.com/torvalds/linux/blob/v6.0/Documentation/ABI/testing/sysfs-bus-pci#L344-L355\n",
            "2024-05-08 01:23:18.238453: I external/local_xla/xla/stream_executor/cuda/cuda_executor.cc:901] successful NUMA node read from SysFS had negative value (-1), but there must be at least one NUMA node, so returning NUMA node zero. See more at https://github.com/torvalds/linux/blob/v6.0/Documentation/ABI/testing/sysfs-bus-pci#L344-L355\n",
            "2024-05-08 01:23:18.238908: I external/local_xla/xla/stream_executor/cuda/cuda_executor.cc:901] successful NUMA node read from SysFS had negative value (-1), but there must be at least one NUMA node, so returning NUMA node zero. See more at https://github.com/torvalds/linux/blob/v6.0/Documentation/ABI/testing/sysfs-bus-pci#L344-L355\n",
            "2024-05-08 01:23:18.239309: I external/local_xla/xla/stream_executor/cuda/cuda_executor.cc:901] successful NUMA node read from SysFS had negative value (-1), but there must be at least one NUMA node, so returning NUMA node zero. See more at https://github.com/torvalds/linux/blob/v6.0/Documentation/ABI/testing/sysfs-bus-pci#L344-L355\n",
            "2024-05-08 01:23:18.332053: I external/local_xla/xla/stream_executor/cuda/cuda_executor.cc:901] successful NUMA node read from SysFS had negative value (-1), but there must be at least one NUMA node, so returning NUMA node zero. See more at https://github.com/torvalds/linux/blob/v6.0/Documentation/ABI/testing/sysfs-bus-pci#L344-L355\n",
            "2024-05-08 01:23:18.332279: I external/local_xla/xla/stream_executor/cuda/cuda_executor.cc:901] successful NUMA node read from SysFS had negative value (-1), but there must be at least one NUMA node, so returning NUMA node zero. See more at https://github.com/torvalds/linux/blob/v6.0/Documentation/ABI/testing/sysfs-bus-pci#L344-L355\n",
            "2024-05-08 01:23:18.332480: I external/local_xla/xla/stream_executor/cuda/cuda_executor.cc:901] successful NUMA node read from SysFS had negative value (-1), but there must be at least one NUMA node, so returning NUMA node zero. See more at https://github.com/torvalds/linux/blob/v6.0/Documentation/ABI/testing/sysfs-bus-pci#L344-L355\n",
            "2024-05-08 01:23:18.332636: I tensorflow/core/common_runtime/gpu/gpu_device.cc:1929] Created device /job:localhost/replica:0/task:0/device:GPU:0 with 750 MB memory:  -> device: 0, name: NVIDIA GeForce GTX 1650, pci bus id: 0000:01:00.0, compute capability: 7.5\n"
          ]
        }
      ],
      "source": [
        "model = keras.models.load_model(\"InceptionV3Run3.Keras\")"
      ]
    },
    {
      "cell_type": "code",
      "execution_count": 6,
      "metadata": {},
      "outputs": [],
      "source": [
        "# Define the last convolutional layer name\n",
        "last_conv_layer_name = \"mixed10\"\n",
        "\n",
        "# Define the image size\n",
        "img_size = (299, 299)\n",
        "\n",
        "def get_img_array(img_path, size):\n",
        "    # `img` is a PIL image of size 299x299\n",
        "    img = keras.utils.load_img(img_path, target_size=size)\n",
        "    # `array` is a float32 Numpy array of shape (299, 299, 3)\n",
        "    array = keras.utils.img_to_array(img)\n",
        "    # We add a dimension to transform our array into a \"batch\"\n",
        "    # of size (1, 299, 299, 3)\n",
        "    array = np.expand_dims(array, axis=0)\n",
        "    return array\n",
        "\n",
        "\n",
        "def make_gradcam_heatmap(img_array, model, last_conv_layer_name, pred_index=None):\n",
        "    # First, we create a model that maps the input image to the activations\n",
        "    # of the last conv layer as well as the output predictions\n",
        "    grad_model = keras.models.Model(\n",
        "        model.inputs, [model.get_layer(last_conv_layer_name).output, model.output]\n",
        "    )\n",
        "\n",
        "    # Then, we compute the gradient of the top predicted class for our input image\n",
        "    # with respect to the activations of the last conv layer\n",
        "    with tf.GradientTape() as tape:\n",
        "        last_conv_layer_output, preds = grad_model(img_array)\n",
        "        if pred_index is None:\n",
        "            pred_index = tf.argmax(preds[0])\n",
        "        class_channel = preds[:, pred_index]\n",
        "\n",
        "    # This is the gradient of the output neuron (top predicted or chosen)\n",
        "    # with regard to the output feature map of the last conv layer\n",
        "    grads = tape.gradient(class_channel, last_conv_layer_output)\n",
        "\n",
        "    # This is a vector where each entry is the mean intensity of the gradient\n",
        "    # over a specific feature map channel\n",
        "    pooled_grads = tf.reduce_mean(grads, axis=(0, 1, 2))\n",
        "\n",
        "    # We multiply each channel in the feature map array\n",
        "    # by \"how important this channel is\" with regard to the top predicted class\n",
        "    # then sum all the channels to obtain the heatmap class activation\n",
        "    last_conv_layer_output = last_conv_layer_output[0]\n",
        "    heatmap = last_conv_layer_output @ pooled_grads[..., tf.newaxis]\n",
        "    heatmap = tf.squeeze(heatmap)\n",
        "\n",
        "    # For visualization purpose, we will also normalize the heatmap between 0 & 1\n",
        "    heatmap = tf.maximum(heatmap, 0) / tf.math.reduce_max(heatmap)\n",
        "    return heatmap.numpy()"
      ]
    },
    {
      "cell_type": "code",
      "execution_count": 24,
      "metadata": {},
      "outputs": [
        {
          "name": "stdout",
          "output_type": "stream",
          "text": [
            "1/1 [==============================] - 0s 21ms/step\n"
          ]
        },
        {
          "data": {
            "image/png": "[encoded data removed]",
            "text/plain": [
              "<Figure size 480x480 with 1 Axes>"
            ]
          },
          "metadata": {},
          "output_type": "display_data"
        }
      ],
      "source": [
        "from tensorflow.keras.applications.imagenet_utils import preprocess_input\n",
        "\n",
        "img_path = \"../PCOSGen-train/images/unhealthy/15image0033.jpg\"\n",
        "\n",
        "model_builder = keras.applications.InceptionV3\n",
        "img_array = preprocess_input(get_img_array(img_path, size=img_size))\n",
        "\n",
        "# Remove last layer's softmax\n",
        "model.layers[-1].activation =None\n",
        "\n",
        "# Print what the top predicted class is\n",
        "preds = model.predict(img_array)\n",
        "#print(\"Predicted:\", decode_predictions(preds, top=1)[0])\n",
        "\n",
        "# Generate class activation heatmap\n",
        "heatmap = make_gradcam_heatmap(img_array, model, last_conv_layer_name) # or mixed10\n",
        "\n",
        "# Display heatmap\n",
        "plt.matshow(heatmap)\n",
        "plt.show()\n"
      ]
    },
    {
      "cell_type": "code",
      "execution_count": 25,
      "metadata": {},
      "outputs": [
        {
          "name": "stderr",
          "output_type": "stream",
          "text": [
            "/tmp/ipykernel_58639/3365334788.py:11: MatplotlibDeprecationWarning: The get_cmap function was deprecated in Matplotlib 3.7 and will be removed two minor releases later. Use ``matplotlib.colormaps[name]`` or ``matplotlib.colormaps.get_cmap(obj)`` instead.\n",
            "  jet = plt.cm.get_cmap(\"jet\")\n"
          ]
        }
      ],
      "source": [
        "from PIL import Image\n",
        "def save_and_display_gradcam(img_path, heatmap, cam_path=\"attn.jpg\", alpha=0.4):\n",
        "    # Load the original image\n",
        "    img = keras.utils.load_img(img_path)\n",
        "    img = keras.utils.img_to_array(img)\n",
        "\n",
        "    # Rescale heatmap to a range 0-255\n",
        "    heatmap = np.uint8(255 * heatmap)\n",
        "\n",
        "    # Use jet colormap to colorize heatmap\n",
        "    jet = plt.cm.get_cmap(\"jet\")\n",
        "\n",
        "    # Use RGB values of the colormap\n",
        "    jet_colors = jet(np.arange(256))[:, :3]\n",
        "    jet_heatmap = jet_colors[heatmap]\n",
        "\n",
        "    # Create an image with RGB colorized heatmap\n",
        "    jet_heatmap = keras.utils.array_to_img(jet_heatmap)\n",
        "    jet_heatmap = jet_heatmap.resize((img.shape[1], img.shape[0]))\n",
        "    jet_heatmap = keras.utils.img_to_array(jet_heatmap)\n",
        "\n",
        "    # Superimpose the heatmap on original image\n",
        "    superimposed_img = jet_heatmap * alpha + img\n",
        "    superimposed_img = keras.utils.array_to_img(superimposed_img)\n",
        "\n",
        "    # Save the superimposed image\n",
        "    superimposed_img.save(cam_path)\n",
        "\n",
        "save_and_display_gradcam(img_path, heatmap)"
      ]
    },
    {
      "cell_type": "code",
      "execution_count": null,
      "metadata": {},
      "outputs": [],
      "source": []
    }
  ],
  "metadata": {
    "accelerator": "GPU",
    "colab": {
      "gpuType": "T4",
      "provenance": []
    },
    "kernelspec": {
      "display_name": "Python 3",
      "name": "python3"
    },
    "language_info": {
      "codemirror_mode": {
        "name": "ipython",
        "version": 3
      },
      "file_extension": ".py",
      "mimetype": "text/x-python",
      "name": "python",
      "nbconvert_exporter": "python",
      "pygments_lexer": "ipython3",
      "version": "3.10.12"
    }
  },
  "nbformat": 4,
  "nbformat_minor": 0
}
